{
 "cells": [
  {
   "cell_type": "markdown",
   "metadata": {},
   "source": [
    "# Based on Excel list, transfer files to specified folder"
   ]
  },
  {
   "cell_type": "code",
   "execution_count": 2,
   "metadata": {},
   "outputs": [],
   "source": [
    "import shutil\n",
    "import os"
   ]
  },
  {
   "cell_type": "markdown",
   "metadata": {},
   "source": [
    "# Declare input and output variables"
   ]
  },
  {
   "cell_type": "code",
   "execution_count": null,
   "metadata": {},
   "outputs": [],
   "source": [
    "input_folder = 'D:'\n",
    "batch_upload_file = 'D:\\\\WorkingFolder\\\\BatchList.txt'\n",
    "manual_upload_file = 'D:\\\\WorkingFolder\\\\ManualList.txt'"
   ]
  },
  {
   "cell_type": "markdown",
   "metadata": {},
   "source": [
    "# Get list of folder names\n",
    "https://stackoverflow.com/questions/3925614/how-do-you-read-a-file-into-a-list-in-python\n",
    "https://stackoverflow.com/questions/7961363/removing-duplicates-in-lists"
   ]
  },
  {
   "cell_type": "code",
   "execution_count": null,
   "metadata": {},
   "outputs": [],
   "source": [
    "# read the batch file into a list\n",
    "batch_lines = []\n",
    "with open(batch_upload_file) as file:\n",
    "    batch_lines = [line.strip() for line in file]\n",
    "# remove duplicates\n",
    "batch_lines_dup = batch_lines.copy()\n",
    "batch_lines = list(set(batch_lines_dup))\n",
    "print(batch_lines[:5])"
   ]
  },
  {
   "cell_type": "code",
   "execution_count": null,
   "metadata": {},
   "outputs": [],
   "source": [
    "# read the match file into a list\n",
    "manual_lines = []\n",
    "with open (manual_upload_file) as file:\n",
    "    manual_lines = [line.strip() for line in file]\n",
    "# remove duplicates\n",
    "manual_lines_dup = manual_lines.copy()\n",
    "manual_lines = list(set(manual_lines_dup))\n",
    "print(manual_lines[:5])"
   ]
  },
  {
   "cell_type": "markdown",
   "metadata": {},
   "source": [
    "# Move batch folders from \"New Folder\"\n",
    "https://stackoverflow.com/questions/57275140/moving-files-with-python-shutil-library"
   ]
  },
  {
   "cell_type": "code",
   "execution_count": null,
   "metadata": {},
   "outputs": [],
   "source": [
    "batch_folder_output = 'D:\\\\WorkingFolder\\\\Batch_Upload'\n",
    "batch_folders_found = []\n",
    "batch_folders_not_found = []\n",
    "for folder in batch_lines:\n",
    "    batch_folder_input = input_folder + folder\n",
    "    try:\n",
    "        shutil.move(batch_folder_input, batch_folder_output)\n",
    "        batch_folders_found.append(folder)\n",
    "    except FileNotFoundError:\n",
    "        batch_folders_not_found.append(folder)"
   ]
  },
  {
   "cell_type": "markdown",
   "metadata": {},
   "source": [
    "# Print list of batch folders that were successfully moved"
   ]
  },
  {
   "cell_type": "code",
   "execution_count": null,
   "metadata": {},
   "outputs": [],
   "source": [
    "print('Folders that were moved to {}\\n----\\nCount: ' \\\n",
    "      '{}\\nFolder List:\\n{}'.format(batch_folder_output, \\\n",
    "                                    len(batch_folders_found), \\\n",
    "                                    batch_folders_found))"
   ]
  },
  {
   "cell_type": "markdown",
   "metadata": {},
   "source": [
    "# Move manual folders from \"New Folder\""
   ]
  },
  {
   "cell_type": "code",
   "execution_count": null,
   "metadata": {},
   "outputs": [],
   "source": [
    "manual_folder_output = 'D:\\\\WorkingFolder\\\\Manual_Upload'\n",
    "manual_folders_found = []\n",
    "manual_folders_not_found = []\n",
    "for folder in manual_lines:\n",
    "    manual_folder_input = input_folder + folder\n",
    "    try:\n",
    "        shutil.move(manual_folder_input, manual_folder_output)\n",
    "        manual_folders_found.append(folder)\n",
    "    except FileNotFoundError:\n",
    "        manual_folders_not_found.append(folder)"
   ]
  },
  {
   "cell_type": "markdown",
   "metadata": {},
   "source": [
    "# Print list of manual folders that were successfully moved"
   ]
  },
  {
   "cell_type": "code",
   "execution_count": null,
   "metadata": {},
   "outputs": [],
   "source": [
    "print('Folders that were moved to {}\\n----\\nCount: ' \\\n",
    "      '{}\\nFolder List:\\n{}'.format(manual_folder_output, \\\n",
    "                                    len(manual_folders_found), \\\n",
    "                                    manual_folders_found))"
   ]
  },
  {
   "cell_type": "markdown",
   "metadata": {},
   "source": [
    "# Print list of manual folders that do not exist in \"New Folder\""
   ]
  },
  {
   "cell_type": "code",
   "execution_count": null,
   "metadata": {},
   "outputs": [],
   "source": [
    "print('Manual folders listed in Excel, but not found in {}\\n----\\nCount: ' \\\n",
    "      '{}\\nFolder List:\\n{}'.format(input_folder, \\\n",
    "                                    len(manual_folders_not_found), \\\n",
    "                                    manual_folders_not_found))"
   ]
  },
  {
   "cell_type": "markdown",
   "metadata": {},
   "source": [
    "# Get list of folders and files that remain in \"New Folder\"\n",
    "https://stackoverflow.com/questions/800197/how-to-get-all-of-the-immediate-subdirectories-in-python"
   ]
  },
  {
   "cell_type": "markdown",
   "metadata": {},
   "source": [
    "# Unmoved folders"
   ]
  },
  {
   "cell_type": "code",
   "execution_count": null,
   "metadata": {},
   "outputs": [],
   "source": [
    "unmoved_folders = [folder for folder in os.listdir(input_folder) \\\n",
    "                  if os.path.isdir(os.path.join(input_folder, folder))]"
   ]
  },
  {
   "cell_type": "code",
   "execution_count": null,
   "metadata": {},
   "outputs": [],
   "source": [
    "print('List of unmoved folders in {}\\n----\\nCount: ' \\\n",
    "      '{}\\nFolder List:\\n{}'.format(input_folder, \\\n",
    "                                 len(unmoved_folders), \\\n",
    "                                 unmoved_folders))"
   ]
  },
  {
   "cell_type": "markdown",
   "metadata": {},
   "source": [
    "# Unmoved files"
   ]
  },
  {
   "cell_type": "code",
   "execution_count": null,
   "metadata": {},
   "outputs": [],
   "source": [
    "unmoved_files = [file for file in os.listdir(input_folder) \\\n",
    "                  if os.path.isfile(os.path.join(input_folder, file))]"
   ]
  },
  {
   "cell_type": "code",
   "execution_count": null,
   "metadata": {},
   "outputs": [],
   "source": [
    "print('List of unmoved files in {}\\n----\\nCount: ' \\\n",
    "      '{}\\nFile List:\\n{}'.format(input_folder, \\\n",
    "                                 len(unmoved_files), \\\n",
    "                                 unmoved_files))"
   ]
  },
  {
   "cell_type": "code",
   "execution_count": null,
   "metadata": {},
   "outputs": [],
   "source": [
    "import csv\n",
    "\n",
    "with open(\"Successful Batch Folders Upload.csv\", 'w', newline='') as myfile:\n",
    "     wr = csv.writer(myfile, quoting=csv.QUOTE_ALL)\n",
    "     wr.writerow(batch_folders_found)"
   ]
  },
  {
   "cell_type": "markdown",
   "metadata": {},
   "source": [
    "# Move batch folder files into one folder\n",
    "https://automatetheboringstuff.com/chapter9/"
   ]
  },
  {
   "cell_type": "code",
   "execution_count": 14,
   "metadata": {},
   "outputs": [],
   "source": [
    "batch_file_input_folder = 'D:\\\\WorkingFolder\\\\Batch_Upload'\n",
    "batch_file_output_folder = 'D:\\\\WorkingFolder\\\\Batch_Upload_Files'\n",
    "\n",
    "for folderName, subfolders, filenames in os.walk(batch_file_input_folder):\n",
    "\n",
    "    for filename in filenames:\n",
    "        batch_file_path = folderName + '\\\\' + filename\n",
    "        shutil.move(batch_file_path, batch_file_output_folder)\n",
    "        print(folderName + '\\\\' + filename)\n",
    "    "
   ]
  },
  {
   "cell_type": "markdown",
   "metadata": {},
   "source": [
    "# Move manual folder files into one folder"
   ]
  },
  {
   "cell_type": "code",
   "execution_count": 15,
   "metadata": {},
   "outputs": [],
   "source": [
    "manual_file_input_folder = 'D:\\\\WorkingFolder\\\\Manual_Upload'\n",
    "manual_file_output_folder = 'D:\\\\WorkingFolder\\\\Manual_Upload_Files'\n",
    "manual_moved_list = []\n",
    "for folderName, subfolders, filenames in os.walk(manual_file_input_folder):\n",
    "\n",
    "    for filename in filenames:\n",
    "        manual_file_path = folderName + '\\\\' + filename\n",
    "        shutil.move(manual_file_path, manual_file_output_folder)\n",
    "        manual_moved_list.append(filename)\n",
    "        print(filename)"
   ]
  },
  {
   "cell_type": "code",
   "execution_count": 5,
   "metadata": {},
   "outputs": [
    {
     "data": {
      "text/plain": [
       "0"
      ]
     },
     "execution_count": 5,
     "metadata": {},
     "output_type": "execute_result"
    }
   ],
   "source": [
    "len(manual_moved_list)"
   ]
  },
  {
   "cell_type": "markdown",
   "metadata": {},
   "source": [
    "# Print out folder names for Batch, Manual, and Unmoved"
   ]
  },
  {
   "cell_type": "code",
   "execution_count": 13,
   "metadata": {},
   "outputs": [],
   "source": [
    "#input path of desired folder into os.walk() function\n",
    "\n",
    "for folderName, subfolders, filenames in os.walk('D:'):\n",
    "\n",
    "    for subfolder in subfolders:\n",
    "        print(subfolder)"
   ]
  },
  {
   "cell_type": "code",
   "execution_count": null,
   "metadata": {},
   "outputs": [],
   "source": []
  }
 ],
 "metadata": {
  "kernelspec": {
   "display_name": "Python 3",
   "language": "python",
   "name": "python3"
  },
  "language_info": {
   "codemirror_mode": {
    "name": "ipython",
    "version": 3
   },
   "file_extension": ".py",
   "mimetype": "text/x-python",
   "name": "python",
   "nbconvert_exporter": "python",
   "pygments_lexer": "ipython3",
   "version": "3.7.1"
  }
 },
 "nbformat": 4,
 "nbformat_minor": 2
}
